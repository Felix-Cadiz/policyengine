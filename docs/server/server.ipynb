{
 "cells": [
  {
   "cell_type": "code",
   "execution_count": 9,
   "metadata": {},
   "outputs": [],
   "source": [
    "from docutils.core import publish_doctree\n",
    "import inspect\n",
    "import typing\n",
    "from policyengine.policyengine import PolicyEngine\n",
    "\n",
    "document = publish_doctree(source=inspect.getsource(PolicyEngine))\n",
    "attribute_texts = [node[0].astext() for node in document.traverse(condition=lambda node: node.tagname == 'definition')]\n",
    "attribute_docstrings = [text.split('\\\"\\\"\\\"')[1] for text in attribute_texts]\n",
    "attribute_names = [text.split(\" = \")[0].split(\":\")[0] for text in attribute_texts]"
   ]
  },
  {
   "cell_type": "code",
   "execution_count": 21,
   "metadata": {},
   "outputs": [
    {
     "name": "stdout",
     "output_type": "stream",
     "text": [
      "test\n",
      "bool\n",
      "Test\n"
     ]
    }
   ],
   "source": [
    "for name, docstring in zip(attribute_names, attribute_docstrings):\n",
    "    print(name)\n",
    "    print(typing.get_type_hints(PolicyEngine)[name].__name__)\n",
    "    print(docstring)"
   ]
  },
  {
   "cell_type": "code",
   "execution_count": null,
   "metadata": {},
   "outputs": [],
   "source": [
    "PolicyEngine.version.__doc__"
   ]
  }
 ],
 "metadata": {
  "kernelspec": {
   "display_name": "Python 3.7.11 ('policyengine')",
   "language": "python",
   "name": "python3"
  },
  "language_info": {
   "codemirror_mode": {
    "name": "ipython",
    "version": 3
   },
   "file_extension": ".py",
   "mimetype": "text/x-python",
   "name": "python",
   "nbconvert_exporter": "python",
   "pygments_lexer": "ipython3",
   "version": "3.7.11"
  },
  "orig_nbformat": 4,
  "vscode": {
   "interpreter": {
    "hash": "8dfc7b25af29ff50af05ad7ef5344155df419318e539ca710572e6dd4f9023a3"
   }
  }
 },
 "nbformat": 4,
 "nbformat_minor": 2
}
